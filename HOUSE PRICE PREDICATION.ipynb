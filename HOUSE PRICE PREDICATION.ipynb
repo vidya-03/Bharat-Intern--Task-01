{
 "cells": [
  {
   "cell_type": "raw",
   "id": "7b231277",
   "metadata": {},
   "source": [
    "                                             HOUSE PRICE PREDICATION\n",
    "Name:Vidyashree V Hiremath\n",
    "Domain:Machine Learning\n",
    "Internship:Bharat Intern"
   ]
  },
  {
   "cell_type": "code",
   "execution_count": 1,
   "id": "77a059bb",
   "metadata": {},
   "outputs": [],
   "source": [
    "import pandas as pd\n",
    "import matplotlib.pyplot as plt\n",
    "import seaborn as sns \n",
    "import numpy as np\n"
   ]
  },
  {
   "cell_type": "code",
   "execution_count": 2,
   "id": "ab84133b",
   "metadata": {},
   "outputs": [],
   "source": [
    "# load the dataset\n",
    "data = pd.read_csv(\"D:\\desktop\\data (1).csv\")"
   ]
  },
  {
   "cell_type": "code",
   "execution_count": 3,
   "id": "09793ca0",
   "metadata": {},
   "outputs": [
    {
     "data": {
      "text/html": [
       "<div>\n",
       "<style scoped>\n",
       "    .dataframe tbody tr th:only-of-type {\n",
       "        vertical-align: middle;\n",
       "    }\n",
       "\n",
       "    .dataframe tbody tr th {\n",
       "        vertical-align: top;\n",
       "    }\n",
       "\n",
       "    .dataframe thead th {\n",
       "        text-align: right;\n",
       "    }\n",
       "</style>\n",
       "<table border=\"1\" class=\"dataframe\">\n",
       "  <thead>\n",
       "    <tr style=\"text-align: right;\">\n",
       "      <th></th>\n",
       "      <th>date</th>\n",
       "      <th>price</th>\n",
       "      <th>bedrooms</th>\n",
       "      <th>bathrooms</th>\n",
       "      <th>sqft_living</th>\n",
       "      <th>sqft_lot</th>\n",
       "      <th>floors</th>\n",
       "      <th>waterfront</th>\n",
       "      <th>view</th>\n",
       "      <th>condition</th>\n",
       "      <th>sqft_above</th>\n",
       "      <th>sqft_basement</th>\n",
       "      <th>yr_built</th>\n",
       "      <th>yr_renovated</th>\n",
       "      <th>street</th>\n",
       "      <th>city</th>\n",
       "      <th>statezip</th>\n",
       "      <th>country</th>\n",
       "    </tr>\n",
       "  </thead>\n",
       "  <tbody>\n",
       "    <tr>\n",
       "      <th>0</th>\n",
       "      <td>2014-05-02 00:00:00</td>\n",
       "      <td>3.130000e+05</td>\n",
       "      <td>3.0</td>\n",
       "      <td>1.50</td>\n",
       "      <td>1340</td>\n",
       "      <td>7912</td>\n",
       "      <td>1.5</td>\n",
       "      <td>0</td>\n",
       "      <td>0</td>\n",
       "      <td>3</td>\n",
       "      <td>1340</td>\n",
       "      <td>0</td>\n",
       "      <td>1955</td>\n",
       "      <td>2005</td>\n",
       "      <td>18810 Densmore Ave N</td>\n",
       "      <td>Shoreline</td>\n",
       "      <td>WA 98133</td>\n",
       "      <td>USA</td>\n",
       "    </tr>\n",
       "    <tr>\n",
       "      <th>1</th>\n",
       "      <td>2014-05-02 00:00:00</td>\n",
       "      <td>2.384000e+06</td>\n",
       "      <td>5.0</td>\n",
       "      <td>2.50</td>\n",
       "      <td>3650</td>\n",
       "      <td>9050</td>\n",
       "      <td>2.0</td>\n",
       "      <td>0</td>\n",
       "      <td>4</td>\n",
       "      <td>5</td>\n",
       "      <td>3370</td>\n",
       "      <td>280</td>\n",
       "      <td>1921</td>\n",
       "      <td>0</td>\n",
       "      <td>709 W Blaine St</td>\n",
       "      <td>Seattle</td>\n",
       "      <td>WA 98119</td>\n",
       "      <td>USA</td>\n",
       "    </tr>\n",
       "    <tr>\n",
       "      <th>2</th>\n",
       "      <td>2014-05-02 00:00:00</td>\n",
       "      <td>3.420000e+05</td>\n",
       "      <td>3.0</td>\n",
       "      <td>2.00</td>\n",
       "      <td>1930</td>\n",
       "      <td>11947</td>\n",
       "      <td>1.0</td>\n",
       "      <td>0</td>\n",
       "      <td>0</td>\n",
       "      <td>4</td>\n",
       "      <td>1930</td>\n",
       "      <td>0</td>\n",
       "      <td>1966</td>\n",
       "      <td>0</td>\n",
       "      <td>26206-26214 143rd Ave SE</td>\n",
       "      <td>Kent</td>\n",
       "      <td>WA 98042</td>\n",
       "      <td>USA</td>\n",
       "    </tr>\n",
       "    <tr>\n",
       "      <th>3</th>\n",
       "      <td>2014-05-02 00:00:00</td>\n",
       "      <td>4.200000e+05</td>\n",
       "      <td>3.0</td>\n",
       "      <td>2.25</td>\n",
       "      <td>2000</td>\n",
       "      <td>8030</td>\n",
       "      <td>1.0</td>\n",
       "      <td>0</td>\n",
       "      <td>0</td>\n",
       "      <td>4</td>\n",
       "      <td>1000</td>\n",
       "      <td>1000</td>\n",
       "      <td>1963</td>\n",
       "      <td>0</td>\n",
       "      <td>857 170th Pl NE</td>\n",
       "      <td>Bellevue</td>\n",
       "      <td>WA 98008</td>\n",
       "      <td>USA</td>\n",
       "    </tr>\n",
       "    <tr>\n",
       "      <th>4</th>\n",
       "      <td>2014-05-02 00:00:00</td>\n",
       "      <td>5.500000e+05</td>\n",
       "      <td>4.0</td>\n",
       "      <td>2.50</td>\n",
       "      <td>1940</td>\n",
       "      <td>10500</td>\n",
       "      <td>1.0</td>\n",
       "      <td>0</td>\n",
       "      <td>0</td>\n",
       "      <td>4</td>\n",
       "      <td>1140</td>\n",
       "      <td>800</td>\n",
       "      <td>1976</td>\n",
       "      <td>1992</td>\n",
       "      <td>9105 170th Ave NE</td>\n",
       "      <td>Redmond</td>\n",
       "      <td>WA 98052</td>\n",
       "      <td>USA</td>\n",
       "    </tr>\n",
       "    <tr>\n",
       "      <th>...</th>\n",
       "      <td>...</td>\n",
       "      <td>...</td>\n",
       "      <td>...</td>\n",
       "      <td>...</td>\n",
       "      <td>...</td>\n",
       "      <td>...</td>\n",
       "      <td>...</td>\n",
       "      <td>...</td>\n",
       "      <td>...</td>\n",
       "      <td>...</td>\n",
       "      <td>...</td>\n",
       "      <td>...</td>\n",
       "      <td>...</td>\n",
       "      <td>...</td>\n",
       "      <td>...</td>\n",
       "      <td>...</td>\n",
       "      <td>...</td>\n",
       "      <td>...</td>\n",
       "    </tr>\n",
       "    <tr>\n",
       "      <th>4595</th>\n",
       "      <td>2014-07-09 00:00:00</td>\n",
       "      <td>3.081667e+05</td>\n",
       "      <td>3.0</td>\n",
       "      <td>1.75</td>\n",
       "      <td>1510</td>\n",
       "      <td>6360</td>\n",
       "      <td>1.0</td>\n",
       "      <td>0</td>\n",
       "      <td>0</td>\n",
       "      <td>4</td>\n",
       "      <td>1510</td>\n",
       "      <td>0</td>\n",
       "      <td>1954</td>\n",
       "      <td>1979</td>\n",
       "      <td>501 N 143rd St</td>\n",
       "      <td>Seattle</td>\n",
       "      <td>WA 98133</td>\n",
       "      <td>USA</td>\n",
       "    </tr>\n",
       "    <tr>\n",
       "      <th>4596</th>\n",
       "      <td>2014-07-09 00:00:00</td>\n",
       "      <td>5.343333e+05</td>\n",
       "      <td>3.0</td>\n",
       "      <td>2.50</td>\n",
       "      <td>1460</td>\n",
       "      <td>7573</td>\n",
       "      <td>2.0</td>\n",
       "      <td>0</td>\n",
       "      <td>0</td>\n",
       "      <td>3</td>\n",
       "      <td>1460</td>\n",
       "      <td>0</td>\n",
       "      <td>1983</td>\n",
       "      <td>2009</td>\n",
       "      <td>14855 SE 10th Pl</td>\n",
       "      <td>Bellevue</td>\n",
       "      <td>WA 98007</td>\n",
       "      <td>USA</td>\n",
       "    </tr>\n",
       "    <tr>\n",
       "      <th>4597</th>\n",
       "      <td>2014-07-09 00:00:00</td>\n",
       "      <td>4.169042e+05</td>\n",
       "      <td>3.0</td>\n",
       "      <td>2.50</td>\n",
       "      <td>3010</td>\n",
       "      <td>7014</td>\n",
       "      <td>2.0</td>\n",
       "      <td>0</td>\n",
       "      <td>0</td>\n",
       "      <td>3</td>\n",
       "      <td>3010</td>\n",
       "      <td>0</td>\n",
       "      <td>2009</td>\n",
       "      <td>0</td>\n",
       "      <td>759 Ilwaco Pl NE</td>\n",
       "      <td>Renton</td>\n",
       "      <td>WA 98059</td>\n",
       "      <td>USA</td>\n",
       "    </tr>\n",
       "    <tr>\n",
       "      <th>4598</th>\n",
       "      <td>2014-07-10 00:00:00</td>\n",
       "      <td>2.034000e+05</td>\n",
       "      <td>4.0</td>\n",
       "      <td>2.00</td>\n",
       "      <td>2090</td>\n",
       "      <td>6630</td>\n",
       "      <td>1.0</td>\n",
       "      <td>0</td>\n",
       "      <td>0</td>\n",
       "      <td>3</td>\n",
       "      <td>1070</td>\n",
       "      <td>1020</td>\n",
       "      <td>1974</td>\n",
       "      <td>0</td>\n",
       "      <td>5148 S Creston St</td>\n",
       "      <td>Seattle</td>\n",
       "      <td>WA 98178</td>\n",
       "      <td>USA</td>\n",
       "    </tr>\n",
       "    <tr>\n",
       "      <th>4599</th>\n",
       "      <td>2014-07-10 00:00:00</td>\n",
       "      <td>2.206000e+05</td>\n",
       "      <td>3.0</td>\n",
       "      <td>2.50</td>\n",
       "      <td>1490</td>\n",
       "      <td>8102</td>\n",
       "      <td>2.0</td>\n",
       "      <td>0</td>\n",
       "      <td>0</td>\n",
       "      <td>4</td>\n",
       "      <td>1490</td>\n",
       "      <td>0</td>\n",
       "      <td>1990</td>\n",
       "      <td>0</td>\n",
       "      <td>18717 SE 258th St</td>\n",
       "      <td>Covington</td>\n",
       "      <td>WA 98042</td>\n",
       "      <td>USA</td>\n",
       "    </tr>\n",
       "  </tbody>\n",
       "</table>\n",
       "<p>4600 rows × 18 columns</p>\n",
       "</div>"
      ],
      "text/plain": [
       "                     date         price  bedrooms  bathrooms  sqft_living  \\\n",
       "0     2014-05-02 00:00:00  3.130000e+05       3.0       1.50         1340   \n",
       "1     2014-05-02 00:00:00  2.384000e+06       5.0       2.50         3650   \n",
       "2     2014-05-02 00:00:00  3.420000e+05       3.0       2.00         1930   \n",
       "3     2014-05-02 00:00:00  4.200000e+05       3.0       2.25         2000   \n",
       "4     2014-05-02 00:00:00  5.500000e+05       4.0       2.50         1940   \n",
       "...                   ...           ...       ...        ...          ...   \n",
       "4595  2014-07-09 00:00:00  3.081667e+05       3.0       1.75         1510   \n",
       "4596  2014-07-09 00:00:00  5.343333e+05       3.0       2.50         1460   \n",
       "4597  2014-07-09 00:00:00  4.169042e+05       3.0       2.50         3010   \n",
       "4598  2014-07-10 00:00:00  2.034000e+05       4.0       2.00         2090   \n",
       "4599  2014-07-10 00:00:00  2.206000e+05       3.0       2.50         1490   \n",
       "\n",
       "      sqft_lot  floors  waterfront  view  condition  sqft_above  \\\n",
       "0         7912     1.5           0     0          3        1340   \n",
       "1         9050     2.0           0     4          5        3370   \n",
       "2        11947     1.0           0     0          4        1930   \n",
       "3         8030     1.0           0     0          4        1000   \n",
       "4        10500     1.0           0     0          4        1140   \n",
       "...        ...     ...         ...   ...        ...         ...   \n",
       "4595      6360     1.0           0     0          4        1510   \n",
       "4596      7573     2.0           0     0          3        1460   \n",
       "4597      7014     2.0           0     0          3        3010   \n",
       "4598      6630     1.0           0     0          3        1070   \n",
       "4599      8102     2.0           0     0          4        1490   \n",
       "\n",
       "      sqft_basement  yr_built  yr_renovated                    street  \\\n",
       "0                 0      1955          2005      18810 Densmore Ave N   \n",
       "1               280      1921             0           709 W Blaine St   \n",
       "2                 0      1966             0  26206-26214 143rd Ave SE   \n",
       "3              1000      1963             0           857 170th Pl NE   \n",
       "4               800      1976          1992         9105 170th Ave NE   \n",
       "...             ...       ...           ...                       ...   \n",
       "4595              0      1954          1979            501 N 143rd St   \n",
       "4596              0      1983          2009          14855 SE 10th Pl   \n",
       "4597              0      2009             0          759 Ilwaco Pl NE   \n",
       "4598           1020      1974             0         5148 S Creston St   \n",
       "4599              0      1990             0         18717 SE 258th St   \n",
       "\n",
       "           city  statezip country  \n",
       "0     Shoreline  WA 98133     USA  \n",
       "1       Seattle  WA 98119     USA  \n",
       "2          Kent  WA 98042     USA  \n",
       "3      Bellevue  WA 98008     USA  \n",
       "4       Redmond  WA 98052     USA  \n",
       "...         ...       ...     ...  \n",
       "4595    Seattle  WA 98133     USA  \n",
       "4596   Bellevue  WA 98007     USA  \n",
       "4597     Renton  WA 98059     USA  \n",
       "4598    Seattle  WA 98178     USA  \n",
       "4599  Covington  WA 98042     USA  \n",
       "\n",
       "[4600 rows x 18 columns]"
      ]
     },
     "execution_count": 3,
     "metadata": {},
     "output_type": "execute_result"
    }
   ],
   "source": [
    "data"
   ]
  },
  {
   "cell_type": "code",
   "execution_count": 4,
   "id": "6cb89c0b",
   "metadata": {},
   "outputs": [
    {
     "name": "stdout",
     "output_type": "stream",
     "text": [
      "\n",
      "Sample Data:\n",
      "                  date      price  bedrooms  bathrooms  sqft_living  sqft_lot  \\\n",
      "0  2014-05-02 00:00:00   313000.0       3.0       1.50         1340      7912   \n",
      "1  2014-05-02 00:00:00  2384000.0       5.0       2.50         3650      9050   \n",
      "2  2014-05-02 00:00:00   342000.0       3.0       2.00         1930     11947   \n",
      "3  2014-05-02 00:00:00   420000.0       3.0       2.25         2000      8030   \n",
      "4  2014-05-02 00:00:00   550000.0       4.0       2.50         1940     10500   \n",
      "5  2014-05-02 00:00:00   490000.0       2.0       1.00          880      6380   \n",
      "6  2014-05-02 00:00:00   335000.0       2.0       2.00         1350      2560   \n",
      "7  2014-05-02 00:00:00   482000.0       4.0       2.50         2710     35868   \n",
      "8  2014-05-02 00:00:00   452500.0       3.0       2.50         2430     88426   \n",
      "9  2014-05-02 00:00:00   640000.0       4.0       2.00         1520      6200   \n",
      "\n",
      "   floors  waterfront  view  condition  sqft_above  sqft_basement  yr_built  \\\n",
      "0     1.5           0     0          3        1340              0      1955   \n",
      "1     2.0           0     4          5        3370            280      1921   \n",
      "2     1.0           0     0          4        1930              0      1966   \n",
      "3     1.0           0     0          4        1000           1000      1963   \n",
      "4     1.0           0     0          4        1140            800      1976   \n",
      "5     1.0           0     0          3         880              0      1938   \n",
      "6     1.0           0     0          3        1350              0      1976   \n",
      "7     2.0           0     0          3        2710              0      1989   \n",
      "8     1.0           0     0          4        1570            860      1985   \n",
      "9     1.5           0     0          3        1520              0      1945   \n",
      "\n",
      "   yr_renovated                    street          city  statezip country  \n",
      "0          2005      18810 Densmore Ave N     Shoreline  WA 98133     USA  \n",
      "1             0           709 W Blaine St       Seattle  WA 98119     USA  \n",
      "2             0  26206-26214 143rd Ave SE          Kent  WA 98042     USA  \n",
      "3             0           857 170th Pl NE      Bellevue  WA 98008     USA  \n",
      "4          1992         9105 170th Ave NE       Redmond  WA 98052     USA  \n",
      "5          1994            522 NE 88th St       Seattle  WA 98115     USA  \n",
      "6             0         2616 174th Ave NE       Redmond  WA 98052     USA  \n",
      "7             0         23762 SE 253rd Pl  Maple Valley  WA 98038     USA  \n",
      "8             0   46611-46625 SE 129th St    North Bend  WA 98045     USA  \n",
      "9          2010          6811 55th Ave NE       Seattle  WA 98115     USA  \n"
     ]
    }
   ],
   "source": [
    "print(\"\\nSample Data:\")\n",
    "print(data.head(10))"
   ]
  },
  {
   "cell_type": "code",
   "execution_count": 5,
   "id": "4337db07",
   "metadata": {},
   "outputs": [
    {
     "name": "stdout",
     "output_type": "stream",
     "text": [
      "\n",
      "Sample Data:\n",
      "                     date          price  bedrooms  bathrooms  sqft_living  \\\n",
      "4590  2014-07-08 00:00:00  380680.555556       4.0       2.50         2620   \n",
      "4591  2014-07-08 00:00:00  396166.666667       3.0       1.75         1880   \n",
      "4592  2014-07-08 00:00:00  252980.000000       4.0       2.50         2530   \n",
      "4593  2014-07-08 00:00:00  289373.307692       3.0       2.50         2538   \n",
      "4594  2014-07-09 00:00:00  210614.285714       3.0       2.50         1610   \n",
      "4595  2014-07-09 00:00:00  308166.666667       3.0       1.75         1510   \n",
      "4596  2014-07-09 00:00:00  534333.333333       3.0       2.50         1460   \n",
      "4597  2014-07-09 00:00:00  416904.166667       3.0       2.50         3010   \n",
      "4598  2014-07-10 00:00:00  203400.000000       4.0       2.00         2090   \n",
      "4599  2014-07-10 00:00:00  220600.000000       3.0       2.50         1490   \n",
      "\n",
      "      sqft_lot  floors  waterfront  view  condition  sqft_above  \\\n",
      "4590      8331     2.0           0     0          3        2620   \n",
      "4591      5752     1.0           0     0          4         940   \n",
      "4592      8169     2.0           0     0          3        2530   \n",
      "4593      4600     2.0           0     0          3        2538   \n",
      "4594      7223     2.0           0     0          3        1610   \n",
      "4595      6360     1.0           0     0          4        1510   \n",
      "4596      7573     2.0           0     0          3        1460   \n",
      "4597      7014     2.0           0     0          3        3010   \n",
      "4598      6630     1.0           0     0          3        1070   \n",
      "4599      8102     2.0           0     0          4        1490   \n",
      "\n",
      "      sqft_basement  yr_built  yr_renovated                 street  \\\n",
      "4590              0      1991             0      13602 SE 186th Pl   \n",
      "4591            940      1945             0     3529 SW Webster St   \n",
      "4592              0      1993             0        37654 18th Pl S   \n",
      "4593              0      2013          1923  5703 Charlotte Ave SE   \n",
      "4594              0      1994             0     26306 127th Ave SE   \n",
      "4595              0      1954          1979         501 N 143rd St   \n",
      "4596              0      1983          2009       14855 SE 10th Pl   \n",
      "4597              0      2009             0       759 Ilwaco Pl NE   \n",
      "4598           1020      1974             0      5148 S Creston St   \n",
      "4599              0      1990             0      18717 SE 258th St   \n",
      "\n",
      "             city  statezip country  \n",
      "4590       Renton  WA 98058     USA  \n",
      "4591      Seattle  WA 98126     USA  \n",
      "4592  Federal Way  WA 98003     USA  \n",
      "4593       Auburn  WA 98092     USA  \n",
      "4594         Kent  WA 98030     USA  \n",
      "4595      Seattle  WA 98133     USA  \n",
      "4596     Bellevue  WA 98007     USA  \n",
      "4597       Renton  WA 98059     USA  \n",
      "4598      Seattle  WA 98178     USA  \n",
      "4599    Covington  WA 98042     USA  \n"
     ]
    }
   ],
   "source": [
    "print(\"\\nSample Data:\")\n",
    "print(data.tail(10))"
   ]
  },
  {
   "cell_type": "code",
   "execution_count": 6,
   "id": "21f9ae28",
   "metadata": {},
   "outputs": [
    {
     "name": "stdout",
     "output_type": "stream",
     "text": [
      "Basic Information:\n",
      "<class 'pandas.core.frame.DataFrame'>\n",
      "RangeIndex: 4600 entries, 0 to 4599\n",
      "Data columns (total 18 columns):\n",
      " #   Column         Non-Null Count  Dtype  \n",
      "---  ------         --------------  -----  \n",
      " 0   date           4600 non-null   object \n",
      " 1   price          4600 non-null   float64\n",
      " 2   bedrooms       4600 non-null   float64\n",
      " 3   bathrooms      4600 non-null   float64\n",
      " 4   sqft_living    4600 non-null   int64  \n",
      " 5   sqft_lot       4600 non-null   int64  \n",
      " 6   floors         4600 non-null   float64\n",
      " 7   waterfront     4600 non-null   int64  \n",
      " 8   view           4600 non-null   int64  \n",
      " 9   condition      4600 non-null   int64  \n",
      " 10  sqft_above     4600 non-null   int64  \n",
      " 11  sqft_basement  4600 non-null   int64  \n",
      " 12  yr_built       4600 non-null   int64  \n",
      " 13  yr_renovated   4600 non-null   int64  \n",
      " 14  street         4600 non-null   object \n",
      " 15  city           4600 non-null   object \n",
      " 16  statezip       4600 non-null   object \n",
      " 17  country        4600 non-null   object \n",
      "dtypes: float64(4), int64(9), object(5)\n",
      "memory usage: 647.0+ KB\n",
      "None\n"
     ]
    }
   ],
   "source": [
    "print(\"Basic Information:\")\n",
    "print(data.info())"
   ]
  },
  {
   "cell_type": "code",
   "execution_count": 7,
   "id": "b1694d43",
   "metadata": {},
   "outputs": [
    {
     "data": {
      "text/plain": [
       "date              object\n",
       "price            float64\n",
       "bedrooms         float64\n",
       "bathrooms        float64\n",
       "sqft_living        int64\n",
       "sqft_lot           int64\n",
       "floors           float64\n",
       "waterfront         int64\n",
       "view               int64\n",
       "condition          int64\n",
       "sqft_above         int64\n",
       "sqft_basement      int64\n",
       "yr_built           int64\n",
       "yr_renovated       int64\n",
       "street            object\n",
       "city              object\n",
       "statezip          object\n",
       "country           object\n",
       "dtype: object"
      ]
     },
     "execution_count": 7,
     "metadata": {},
     "output_type": "execute_result"
    }
   ],
   "source": [
    "# checking the types of data\n",
    "data.dtypes"
   ]
  },
  {
   "cell_type": "code",
   "execution_count": 8,
   "id": "1ef10b43",
   "metadata": {},
   "outputs": [
    {
     "data": {
      "text/plain": [
       "Index(['date', 'price', 'bedrooms', 'bathrooms', 'sqft_living', 'sqft_lot',\n",
       "       'floors', 'waterfront', 'view', 'condition', 'sqft_above',\n",
       "       'sqft_basement', 'yr_built', 'yr_renovated', 'street', 'city',\n",
       "       'statezip', 'country'],\n",
       "      dtype='object')"
      ]
     },
     "execution_count": 8,
     "metadata": {},
     "output_type": "execute_result"
    }
   ],
   "source": [
    "# to check columns\n",
    "data.columns"
   ]
  },
  {
   "cell_type": "code",
   "execution_count": 9,
   "id": "f21b7526",
   "metadata": {},
   "outputs": [
    {
     "data": {
      "text/plain": [
       "(4600, 18)"
      ]
     },
     "execution_count": 9,
     "metadata": {},
     "output_type": "execute_result"
    }
   ],
   "source": [
    "# checking size\n",
    "data.shape"
   ]
  },
  {
   "cell_type": "code",
   "execution_count": 10,
   "id": "c6c1f986",
   "metadata": {},
   "outputs": [
    {
     "name": "stdout",
     "output_type": "stream",
     "text": [
      "\n",
      "Summary Statistics:\n",
      "              price     bedrooms    bathrooms   sqft_living      sqft_lot  \\\n",
      "count  4.600000e+03  4600.000000  4600.000000   4600.000000  4.600000e+03   \n",
      "mean   5.519630e+05     3.400870     2.160815   2139.346957  1.485252e+04   \n",
      "std    5.638347e+05     0.908848     0.783781    963.206916  3.588444e+04   \n",
      "min    0.000000e+00     0.000000     0.000000    370.000000  6.380000e+02   \n",
      "25%    3.228750e+05     3.000000     1.750000   1460.000000  5.000750e+03   \n",
      "50%    4.609435e+05     3.000000     2.250000   1980.000000  7.683000e+03   \n",
      "75%    6.549625e+05     4.000000     2.500000   2620.000000  1.100125e+04   \n",
      "max    2.659000e+07     9.000000     8.000000  13540.000000  1.074218e+06   \n",
      "\n",
      "            floors   waterfront         view    condition   sqft_above  \\\n",
      "count  4600.000000  4600.000000  4600.000000  4600.000000  4600.000000   \n",
      "mean      1.512065     0.007174     0.240652     3.451739  1827.265435   \n",
      "std       0.538288     0.084404     0.778405     0.677230   862.168977   \n",
      "min       1.000000     0.000000     0.000000     1.000000   370.000000   \n",
      "25%       1.000000     0.000000     0.000000     3.000000  1190.000000   \n",
      "50%       1.500000     0.000000     0.000000     3.000000  1590.000000   \n",
      "75%       2.000000     0.000000     0.000000     4.000000  2300.000000   \n",
      "max       3.500000     1.000000     4.000000     5.000000  9410.000000   \n",
      "\n",
      "       sqft_basement     yr_built  yr_renovated  \n",
      "count    4600.000000  4600.000000   4600.000000  \n",
      "mean      312.081522  1970.786304    808.608261  \n",
      "std       464.137228    29.731848    979.414536  \n",
      "min         0.000000  1900.000000      0.000000  \n",
      "25%         0.000000  1951.000000      0.000000  \n",
      "50%         0.000000  1976.000000      0.000000  \n",
      "75%       610.000000  1997.000000   1999.000000  \n",
      "max      4820.000000  2014.000000   2014.000000  \n"
     ]
    }
   ],
   "source": [
    "# summary statistics\n",
    "print(\"\\nSummary Statistics:\")\n",
    "print(data.describe())"
   ]
  },
  {
   "cell_type": "code",
   "execution_count": 11,
   "id": "aecf2307",
   "metadata": {},
   "outputs": [
    {
     "data": {
      "text/html": [
       "<div>\n",
       "<style scoped>\n",
       "    .dataframe tbody tr th:only-of-type {\n",
       "        vertical-align: middle;\n",
       "    }\n",
       "\n",
       "    .dataframe tbody tr th {\n",
       "        vertical-align: top;\n",
       "    }\n",
       "\n",
       "    .dataframe thead th {\n",
       "        text-align: right;\n",
       "    }\n",
       "</style>\n",
       "<table border=\"1\" class=\"dataframe\">\n",
       "  <thead>\n",
       "    <tr style=\"text-align: right;\">\n",
       "      <th></th>\n",
       "      <th>date</th>\n",
       "      <th>price</th>\n",
       "      <th>bedrooms</th>\n",
       "      <th>bathrooms</th>\n",
       "      <th>sqft_living</th>\n",
       "      <th>sqft_lot</th>\n",
       "      <th>floors</th>\n",
       "      <th>waterfront</th>\n",
       "      <th>view</th>\n",
       "      <th>condition</th>\n",
       "      <th>sqft_above</th>\n",
       "      <th>sqft_basement</th>\n",
       "      <th>yr_built</th>\n",
       "      <th>yr_renovated</th>\n",
       "      <th>street</th>\n",
       "      <th>city</th>\n",
       "      <th>statezip</th>\n",
       "      <th>country</th>\n",
       "    </tr>\n",
       "  </thead>\n",
       "  <tbody>\n",
       "    <tr>\n",
       "      <th>0</th>\n",
       "      <td>False</td>\n",
       "      <td>False</td>\n",
       "      <td>False</td>\n",
       "      <td>False</td>\n",
       "      <td>False</td>\n",
       "      <td>False</td>\n",
       "      <td>False</td>\n",
       "      <td>False</td>\n",
       "      <td>False</td>\n",
       "      <td>False</td>\n",
       "      <td>False</td>\n",
       "      <td>False</td>\n",
       "      <td>False</td>\n",
       "      <td>False</td>\n",
       "      <td>False</td>\n",
       "      <td>False</td>\n",
       "      <td>False</td>\n",
       "      <td>False</td>\n",
       "    </tr>\n",
       "    <tr>\n",
       "      <th>1</th>\n",
       "      <td>False</td>\n",
       "      <td>False</td>\n",
       "      <td>False</td>\n",
       "      <td>False</td>\n",
       "      <td>False</td>\n",
       "      <td>False</td>\n",
       "      <td>False</td>\n",
       "      <td>False</td>\n",
       "      <td>False</td>\n",
       "      <td>False</td>\n",
       "      <td>False</td>\n",
       "      <td>False</td>\n",
       "      <td>False</td>\n",
       "      <td>False</td>\n",
       "      <td>False</td>\n",
       "      <td>False</td>\n",
       "      <td>False</td>\n",
       "      <td>False</td>\n",
       "    </tr>\n",
       "    <tr>\n",
       "      <th>2</th>\n",
       "      <td>False</td>\n",
       "      <td>False</td>\n",
       "      <td>False</td>\n",
       "      <td>False</td>\n",
       "      <td>False</td>\n",
       "      <td>False</td>\n",
       "      <td>False</td>\n",
       "      <td>False</td>\n",
       "      <td>False</td>\n",
       "      <td>False</td>\n",
       "      <td>False</td>\n",
       "      <td>False</td>\n",
       "      <td>False</td>\n",
       "      <td>False</td>\n",
       "      <td>False</td>\n",
       "      <td>False</td>\n",
       "      <td>False</td>\n",
       "      <td>False</td>\n",
       "    </tr>\n",
       "    <tr>\n",
       "      <th>3</th>\n",
       "      <td>False</td>\n",
       "      <td>False</td>\n",
       "      <td>False</td>\n",
       "      <td>False</td>\n",
       "      <td>False</td>\n",
       "      <td>False</td>\n",
       "      <td>False</td>\n",
       "      <td>False</td>\n",
       "      <td>False</td>\n",
       "      <td>False</td>\n",
       "      <td>False</td>\n",
       "      <td>False</td>\n",
       "      <td>False</td>\n",
       "      <td>False</td>\n",
       "      <td>False</td>\n",
       "      <td>False</td>\n",
       "      <td>False</td>\n",
       "      <td>False</td>\n",
       "    </tr>\n",
       "    <tr>\n",
       "      <th>4</th>\n",
       "      <td>False</td>\n",
       "      <td>False</td>\n",
       "      <td>False</td>\n",
       "      <td>False</td>\n",
       "      <td>False</td>\n",
       "      <td>False</td>\n",
       "      <td>False</td>\n",
       "      <td>False</td>\n",
       "      <td>False</td>\n",
       "      <td>False</td>\n",
       "      <td>False</td>\n",
       "      <td>False</td>\n",
       "      <td>False</td>\n",
       "      <td>False</td>\n",
       "      <td>False</td>\n",
       "      <td>False</td>\n",
       "      <td>False</td>\n",
       "      <td>False</td>\n",
       "    </tr>\n",
       "    <tr>\n",
       "      <th>...</th>\n",
       "      <td>...</td>\n",
       "      <td>...</td>\n",
       "      <td>...</td>\n",
       "      <td>...</td>\n",
       "      <td>...</td>\n",
       "      <td>...</td>\n",
       "      <td>...</td>\n",
       "      <td>...</td>\n",
       "      <td>...</td>\n",
       "      <td>...</td>\n",
       "      <td>...</td>\n",
       "      <td>...</td>\n",
       "      <td>...</td>\n",
       "      <td>...</td>\n",
       "      <td>...</td>\n",
       "      <td>...</td>\n",
       "      <td>...</td>\n",
       "      <td>...</td>\n",
       "    </tr>\n",
       "    <tr>\n",
       "      <th>4595</th>\n",
       "      <td>False</td>\n",
       "      <td>False</td>\n",
       "      <td>False</td>\n",
       "      <td>False</td>\n",
       "      <td>False</td>\n",
       "      <td>False</td>\n",
       "      <td>False</td>\n",
       "      <td>False</td>\n",
       "      <td>False</td>\n",
       "      <td>False</td>\n",
       "      <td>False</td>\n",
       "      <td>False</td>\n",
       "      <td>False</td>\n",
       "      <td>False</td>\n",
       "      <td>False</td>\n",
       "      <td>False</td>\n",
       "      <td>False</td>\n",
       "      <td>False</td>\n",
       "    </tr>\n",
       "    <tr>\n",
       "      <th>4596</th>\n",
       "      <td>False</td>\n",
       "      <td>False</td>\n",
       "      <td>False</td>\n",
       "      <td>False</td>\n",
       "      <td>False</td>\n",
       "      <td>False</td>\n",
       "      <td>False</td>\n",
       "      <td>False</td>\n",
       "      <td>False</td>\n",
       "      <td>False</td>\n",
       "      <td>False</td>\n",
       "      <td>False</td>\n",
       "      <td>False</td>\n",
       "      <td>False</td>\n",
       "      <td>False</td>\n",
       "      <td>False</td>\n",
       "      <td>False</td>\n",
       "      <td>False</td>\n",
       "    </tr>\n",
       "    <tr>\n",
       "      <th>4597</th>\n",
       "      <td>False</td>\n",
       "      <td>False</td>\n",
       "      <td>False</td>\n",
       "      <td>False</td>\n",
       "      <td>False</td>\n",
       "      <td>False</td>\n",
       "      <td>False</td>\n",
       "      <td>False</td>\n",
       "      <td>False</td>\n",
       "      <td>False</td>\n",
       "      <td>False</td>\n",
       "      <td>False</td>\n",
       "      <td>False</td>\n",
       "      <td>False</td>\n",
       "      <td>False</td>\n",
       "      <td>False</td>\n",
       "      <td>False</td>\n",
       "      <td>False</td>\n",
       "    </tr>\n",
       "    <tr>\n",
       "      <th>4598</th>\n",
       "      <td>False</td>\n",
       "      <td>False</td>\n",
       "      <td>False</td>\n",
       "      <td>False</td>\n",
       "      <td>False</td>\n",
       "      <td>False</td>\n",
       "      <td>False</td>\n",
       "      <td>False</td>\n",
       "      <td>False</td>\n",
       "      <td>False</td>\n",
       "      <td>False</td>\n",
       "      <td>False</td>\n",
       "      <td>False</td>\n",
       "      <td>False</td>\n",
       "      <td>False</td>\n",
       "      <td>False</td>\n",
       "      <td>False</td>\n",
       "      <td>False</td>\n",
       "    </tr>\n",
       "    <tr>\n",
       "      <th>4599</th>\n",
       "      <td>False</td>\n",
       "      <td>False</td>\n",
       "      <td>False</td>\n",
       "      <td>False</td>\n",
       "      <td>False</td>\n",
       "      <td>False</td>\n",
       "      <td>False</td>\n",
       "      <td>False</td>\n",
       "      <td>False</td>\n",
       "      <td>False</td>\n",
       "      <td>False</td>\n",
       "      <td>False</td>\n",
       "      <td>False</td>\n",
       "      <td>False</td>\n",
       "      <td>False</td>\n",
       "      <td>False</td>\n",
       "      <td>False</td>\n",
       "      <td>False</td>\n",
       "    </tr>\n",
       "  </tbody>\n",
       "</table>\n",
       "<p>4600 rows × 18 columns</p>\n",
       "</div>"
      ],
      "text/plain": [
       "       date  price  bedrooms  bathrooms  sqft_living  sqft_lot  floors  \\\n",
       "0     False  False     False      False        False     False   False   \n",
       "1     False  False     False      False        False     False   False   \n",
       "2     False  False     False      False        False     False   False   \n",
       "3     False  False     False      False        False     False   False   \n",
       "4     False  False     False      False        False     False   False   \n",
       "...     ...    ...       ...        ...          ...       ...     ...   \n",
       "4595  False  False     False      False        False     False   False   \n",
       "4596  False  False     False      False        False     False   False   \n",
       "4597  False  False     False      False        False     False   False   \n",
       "4598  False  False     False      False        False     False   False   \n",
       "4599  False  False     False      False        False     False   False   \n",
       "\n",
       "      waterfront   view  condition  sqft_above  sqft_basement  yr_built  \\\n",
       "0          False  False      False       False          False     False   \n",
       "1          False  False      False       False          False     False   \n",
       "2          False  False      False       False          False     False   \n",
       "3          False  False      False       False          False     False   \n",
       "4          False  False      False       False          False     False   \n",
       "...          ...    ...        ...         ...            ...       ...   \n",
       "4595       False  False      False       False          False     False   \n",
       "4596       False  False      False       False          False     False   \n",
       "4597       False  False      False       False          False     False   \n",
       "4598       False  False      False       False          False     False   \n",
       "4599       False  False      False       False          False     False   \n",
       "\n",
       "      yr_renovated  street   city  statezip  country  \n",
       "0            False   False  False     False    False  \n",
       "1            False   False  False     False    False  \n",
       "2            False   False  False     False    False  \n",
       "3            False   False  False     False    False  \n",
       "4            False   False  False     False    False  \n",
       "...            ...     ...    ...       ...      ...  \n",
       "4595         False   False  False     False    False  \n",
       "4596         False   False  False     False    False  \n",
       "4597         False   False  False     False    False  \n",
       "4598         False   False  False     False    False  \n",
       "4599         False   False  False     False    False  \n",
       "\n",
       "[4600 rows x 18 columns]"
      ]
     },
     "execution_count": 11,
     "metadata": {},
     "output_type": "execute_result"
    }
   ],
   "source": [
    "data.isnull()"
   ]
  },
  {
   "cell_type": "code",
   "execution_count": 12,
   "id": "b972d46b",
   "metadata": {},
   "outputs": [
    {
     "data": {
      "text/plain": [
       "date             0\n",
       "price            0\n",
       "bedrooms         0\n",
       "bathrooms        0\n",
       "sqft_living      0\n",
       "sqft_lot         0\n",
       "floors           0\n",
       "waterfront       0\n",
       "view             0\n",
       "condition        0\n",
       "sqft_above       0\n",
       "sqft_basement    0\n",
       "yr_built         0\n",
       "yr_renovated     0\n",
       "street           0\n",
       "city             0\n",
       "statezip         0\n",
       "country          0\n",
       "dtype: int64"
      ]
     },
     "execution_count": 12,
     "metadata": {},
     "output_type": "execute_result"
    }
   ],
   "source": [
    "data.isnull().sum()"
   ]
  },
  {
   "cell_type": "code",
   "execution_count": 13,
   "id": "c9f96bff",
   "metadata": {},
   "outputs": [],
   "source": [
    "# data cleaning:handling missing values\n",
    "data.dropna(inplace=True)"
   ]
  },
  {
   "cell_type": "code",
   "execution_count": 14,
   "id": "ffd385b8",
   "metadata": {},
   "outputs": [
    {
     "data": {
      "text/plain": [
       "date             4600\n",
       "price            4600\n",
       "bedrooms         4600\n",
       "bathrooms        4600\n",
       "sqft_living      4600\n",
       "sqft_lot         4600\n",
       "floors           4600\n",
       "waterfront       4600\n",
       "view             4600\n",
       "condition        4600\n",
       "sqft_above       4600\n",
       "sqft_basement    4600\n",
       "yr_built         4600\n",
       "yr_renovated     4600\n",
       "street           4600\n",
       "city             4600\n",
       "statezip         4600\n",
       "country          4600\n",
       "dtype: int64"
      ]
     },
     "execution_count": 14,
     "metadata": {},
     "output_type": "execute_result"
    }
   ],
   "source": [
    "data.count()"
   ]
  },
  {
   "cell_type": "code",
   "execution_count": 15,
   "id": "93be0c81",
   "metadata": {},
   "outputs": [
    {
     "name": "stdout",
     "output_type": "stream",
     "text": [
      "number of duplicate rows: (0, 18)\n"
     ]
    }
   ],
   "source": [
    "duplicate_rows_df = data[data.duplicated()]\n",
    "print(\"number of duplicate rows:\",duplicate_rows_df.shape)"
   ]
  },
  {
   "cell_type": "code",
   "execution_count": 16,
   "id": "038657dd",
   "metadata": {},
   "outputs": [
    {
     "data": {
      "text/plain": [
       "date             4600\n",
       "price            4600\n",
       "bedrooms         4600\n",
       "bathrooms        4600\n",
       "sqft_living      4600\n",
       "sqft_lot         4600\n",
       "floors           4600\n",
       "waterfront       4600\n",
       "view             4600\n",
       "condition        4600\n",
       "sqft_above       4600\n",
       "sqft_basement    4600\n",
       "yr_built         4600\n",
       "yr_renovated     4600\n",
       "street           4600\n",
       "city             4600\n",
       "statezip         4600\n",
       "country          4600\n",
       "dtype: int64"
      ]
     },
     "execution_count": 16,
     "metadata": {},
     "output_type": "execute_result"
    }
   ],
   "source": [
    "data.count()"
   ]
  },
  {
   "cell_type": "code",
   "execution_count": 17,
   "id": "fef1c1a2",
   "metadata": {},
   "outputs": [],
   "source": [
    "data = data.drop_duplicates()"
   ]
  },
  {
   "cell_type": "code",
   "execution_count": 18,
   "id": "e878e740",
   "metadata": {},
   "outputs": [
    {
     "data": {
      "text/plain": [
       "date             4600\n",
       "price            4600\n",
       "bedrooms         4600\n",
       "bathrooms        4600\n",
       "sqft_living      4600\n",
       "sqft_lot         4600\n",
       "floors           4600\n",
       "waterfront       4600\n",
       "view             4600\n",
       "condition        4600\n",
       "sqft_above       4600\n",
       "sqft_basement    4600\n",
       "yr_built         4600\n",
       "yr_renovated     4600\n",
       "street           4600\n",
       "city             4600\n",
       "statezip         4600\n",
       "country          4600\n",
       "dtype: int64"
      ]
     },
     "execution_count": 18,
     "metadata": {},
     "output_type": "execute_result"
    }
   ],
   "source": [
    "data.count()"
   ]
  },
  {
   "cell_type": "code",
   "execution_count": 19,
   "id": "56fd5059",
   "metadata": {},
   "outputs": [
    {
     "data": {
      "text/plain": [
       "Index(['date', 'price', 'bedrooms', 'bathrooms', 'sqft_living', 'sqft_lot',\n",
       "       'floors', 'waterfront', 'view', 'condition', 'sqft_above',\n",
       "       'sqft_basement', 'yr_built', 'yr_renovated', 'street', 'city',\n",
       "       'statezip', 'country'],\n",
       "      dtype='object')"
      ]
     },
     "execution_count": 19,
     "metadata": {},
     "output_type": "execute_result"
    }
   ],
   "source": [
    "features = data.columns\n",
    "features"
   ]
  },
  {
   "cell_type": "code",
   "execution_count": 20,
   "id": "292d7641",
   "metadata": {},
   "outputs": [
    {
     "data": {
      "text/plain": [
       "date                0\n",
       "price              49\n",
       "bedrooms            2\n",
       "bathrooms           2\n",
       "sqft_living         0\n",
       "sqft_lot            0\n",
       "floors              0\n",
       "waterfront       4567\n",
       "view             4140\n",
       "condition           0\n",
       "sqft_above          0\n",
       "sqft_basement    2745\n",
       "yr_built            0\n",
       "yr_renovated     2735\n",
       "street              0\n",
       "city                0\n",
       "statezip            0\n",
       "country             0\n",
       "dtype: int64"
      ]
     },
     "execution_count": 20,
     "metadata": {},
     "output_type": "execute_result"
    }
   ],
   "source": [
    "Zero_val_cols = (data[features]==0).sum()\n",
    "Zero_val_cols"
   ]
  },
  {
   "cell_type": "code",
   "execution_count": 21,
   "id": "ad2881d1",
   "metadata": {},
   "outputs": [
    {
     "data": {
      "text/plain": [
       "date             0.0\n",
       "price            0.0\n",
       "bedrooms         0.0\n",
       "bathrooms        0.0\n",
       "sqft_living      0.0\n",
       "sqft_lot         0.0\n",
       "floors           0.0\n",
       "waterfront       0.0\n",
       "view             0.0\n",
       "condition        0.0\n",
       "sqft_above       0.0\n",
       "sqft_basement    0.0\n",
       "yr_built         0.0\n",
       "yr_renovated     0.0\n",
       "street           0.0\n",
       "city             0.0\n",
       "statezip         0.0\n",
       "country          0.0\n",
       "dtype: float64"
      ]
     },
     "execution_count": 21,
     "metadata": {},
     "output_type": "execute_result"
    }
   ],
   "source": [
    "data.isnull().sum() / len(data)*100"
   ]
  },
  {
   "cell_type": "code",
   "execution_count": 22,
   "id": "13ed1814",
   "metadata": {},
   "outputs": [],
   "source": [
    "data[['price','city']] = data[['price','city']].replace(0,np.NaN )"
   ]
  },
  {
   "cell_type": "code",
   "execution_count": 23,
   "id": "8c47f37b",
   "metadata": {},
   "outputs": [
    {
     "name": "stdout",
     "output_type": "stream",
     "text": [
      "\n",
      "Label Encoded Dta:\n",
      "                     date         price  bedrooms  bathrooms  sqft_living  \\\n",
      "0     2014-05-02 00:00:00  3.130000e+05       3.0       1.50         1340   \n",
      "1     2014-05-02 00:00:00  2.384000e+06       5.0       2.50         3650   \n",
      "2     2014-05-02 00:00:00  3.420000e+05       3.0       2.00         1930   \n",
      "3     2014-05-02 00:00:00  4.200000e+05       3.0       2.25         2000   \n",
      "4     2014-05-02 00:00:00  5.500000e+05       4.0       2.50         1940   \n",
      "...                   ...           ...       ...        ...          ...   \n",
      "4595  2014-07-09 00:00:00  3.081667e+05       3.0       1.75         1510   \n",
      "4596  2014-07-09 00:00:00  5.343333e+05       3.0       2.50         1460   \n",
      "4597  2014-07-09 00:00:00  4.169042e+05       3.0       2.50         3010   \n",
      "4598  2014-07-10 00:00:00  2.034000e+05       4.0       2.00         2090   \n",
      "4599  2014-07-10 00:00:00  2.206000e+05       3.0       2.50         1490   \n",
      "\n",
      "      sqft_lot  floors  waterfront  view  condition  sqft_above  \\\n",
      "0         7912     1.5           0     0          3        1340   \n",
      "1         9050     2.0           0     4          5        3370   \n",
      "2        11947     1.0           0     0          4        1930   \n",
      "3         8030     1.0           0     0          4        1000   \n",
      "4        10500     1.0           0     0          4        1140   \n",
      "...        ...     ...         ...   ...        ...         ...   \n",
      "4595      6360     1.0           0     0          4        1510   \n",
      "4596      7573     2.0           0     0          3        1460   \n",
      "4597      7014     2.0           0     0          3        3010   \n",
      "4598      6630     1.0           0     0          3        1070   \n",
      "4599      8102     2.0           0     0          4        1490   \n",
      "\n",
      "      sqft_basement  yr_built  yr_renovated                    street  \\\n",
      "0                 0      1955          2005      18810 Densmore Ave N   \n",
      "1               280      1921             0           709 W Blaine St   \n",
      "2                 0      1966             0  26206-26214 143rd Ave SE   \n",
      "3              1000      1963             0           857 170th Pl NE   \n",
      "4               800      1976          1992         9105 170th Ave NE   \n",
      "...             ...       ...           ...                       ...   \n",
      "4595              0      1954          1979            501 N 143rd St   \n",
      "4596              0      1983          2009          14855 SE 10th Pl   \n",
      "4597              0      2009             0          759 Ilwaco Pl NE   \n",
      "4598           1020      1974             0         5148 S Creston St   \n",
      "4599              0      1990             0         18717 SE 258th St   \n",
      "\n",
      "           city  statezip country  bedrooms_LabelEncoder  \n",
      "0     Shoreline  WA 98133     USA                      3  \n",
      "1       Seattle  WA 98119     USA                      5  \n",
      "2          Kent  WA 98042     USA                      3  \n",
      "3      Bellevue  WA 98008     USA                      3  \n",
      "4       Redmond  WA 98052     USA                      4  \n",
      "...         ...       ...     ...                    ...  \n",
      "4595    Seattle  WA 98133     USA                      3  \n",
      "4596   Bellevue  WA 98007     USA                      3  \n",
      "4597     Renton  WA 98059     USA                      3  \n",
      "4598    Seattle  WA 98178     USA                      4  \n",
      "4599  Covington  WA 98042     USA                      3  \n",
      "\n",
      "[4600 rows x 19 columns]\n"
     ]
    }
   ],
   "source": [
    "#one hot encoding\n",
    "#label encoding\n",
    "from sklearn.preprocessing import LabelEncoder\n",
    "\n",
    "label_encoder = LabelEncoder()\n",
    "data['bedrooms_LabelEncoder'] = label_encoder.fit_transform(data['bedrooms'])\n",
    "print(\"\\nLabel Encoded Dta:\")\n",
    "print(data)"
   ]
  },
  {
   "cell_type": "code",
   "execution_count": 24,
   "id": "cdf12b4b",
   "metadata": {},
   "outputs": [
    {
     "name": "stdout",
     "output_type": "stream",
     "text": [
      "\n",
      "Label Encoded Dta:\n",
      "                     date         price  bedrooms  bathrooms  sqft_living  \\\n",
      "0     2014-05-02 00:00:00  3.130000e+05       3.0       1.50         1340   \n",
      "1     2014-05-02 00:00:00  2.384000e+06       5.0       2.50         3650   \n",
      "2     2014-05-02 00:00:00  3.420000e+05       3.0       2.00         1930   \n",
      "3     2014-05-02 00:00:00  4.200000e+05       3.0       2.25         2000   \n",
      "4     2014-05-02 00:00:00  5.500000e+05       4.0       2.50         1940   \n",
      "...                   ...           ...       ...        ...          ...   \n",
      "4595  2014-07-09 00:00:00  3.081667e+05       3.0       1.75         1510   \n",
      "4596  2014-07-09 00:00:00  5.343333e+05       3.0       2.50         1460   \n",
      "4597  2014-07-09 00:00:00  4.169042e+05       3.0       2.50         3010   \n",
      "4598  2014-07-10 00:00:00  2.034000e+05       4.0       2.00         2090   \n",
      "4599  2014-07-10 00:00:00  2.206000e+05       3.0       2.50         1490   \n",
      "\n",
      "      sqft_lot  floors  waterfront  view  condition  sqft_above  \\\n",
      "0         7912     1.5           0     0          3        1340   \n",
      "1         9050     2.0           0     4          5        3370   \n",
      "2        11947     1.0           0     0          4        1930   \n",
      "3         8030     1.0           0     0          4        1000   \n",
      "4        10500     1.0           0     0          4        1140   \n",
      "...        ...     ...         ...   ...        ...         ...   \n",
      "4595      6360     1.0           0     0          4        1510   \n",
      "4596      7573     2.0           0     0          3        1460   \n",
      "4597      7014     2.0           0     0          3        3010   \n",
      "4598      6630     1.0           0     0          3        1070   \n",
      "4599      8102     2.0           0     0          4        1490   \n",
      "\n",
      "      sqft_basement  yr_built  yr_renovated                    street  \\\n",
      "0                 0      1955          2005      18810 Densmore Ave N   \n",
      "1               280      1921             0           709 W Blaine St   \n",
      "2                 0      1966             0  26206-26214 143rd Ave SE   \n",
      "3              1000      1963             0           857 170th Pl NE   \n",
      "4               800      1976          1992         9105 170th Ave NE   \n",
      "...             ...       ...           ...                       ...   \n",
      "4595              0      1954          1979            501 N 143rd St   \n",
      "4596              0      1983          2009          14855 SE 10th Pl   \n",
      "4597              0      2009             0          759 Ilwaco Pl NE   \n",
      "4598           1020      1974             0         5148 S Creston St   \n",
      "4599              0      1990             0         18717 SE 258th St   \n",
      "\n",
      "           city  statezip country  bedrooms_LabelEncoder  street_LabelEncoder  \n",
      "0     Shoreline  WA 98133     USA                      3                 1522  \n",
      "1       Seattle  WA 98119     USA                      5                 3899  \n",
      "2          Kent  WA 98042     USA                      3                 2291  \n",
      "3      Bellevue  WA 98008     USA                      3                 4263  \n",
      "4       Redmond  WA 98052     USA                      4                 4352  \n",
      "...         ...       ...     ...                    ...                  ...  \n",
      "4595    Seattle  WA 98133     USA                      3                 3447  \n",
      "4596   Bellevue  WA 98007     USA                      3                  960  \n",
      "4597     Renton  WA 98059     USA                      3                 4033  \n",
      "4598    Seattle  WA 98178     USA                      4                 3498  \n",
      "4599  Covington  WA 98042     USA                      3                 1514  \n",
      "\n",
      "[4600 rows x 20 columns]\n"
     ]
    }
   ],
   "source": [
    "#one hot encoding\n",
    "#label encoding\n",
    "from sklearn.preprocessing import LabelEncoder\n",
    "\n",
    "label_encoder = LabelEncoder()\n",
    "data['street_LabelEncoder'] = label_encoder.fit_transform(data['street'])\n",
    "print(\"\\nLabel Encoded Dta:\")\n",
    "print(data)"
   ]
  },
  {
   "cell_type": "code",
   "execution_count": 25,
   "id": "cf218007",
   "metadata": {},
   "outputs": [
    {
     "data": {
      "image/png": "[encoded data removed]",
      "text/plain": [
       "<Figure size 576x432 with 1 Axes>"
      ]
     },
     "metadata": {
      "needs_background": "light"
     },
     "output_type": "display_data"
    }
   ],
   "source": [
    "plt.figure(figsize = (8,6))\n",
    "sns.histplot(data['price'],bins=20,kde = True)\n",
    "plt.title(\"distribution of house prices\")\n",
    "plt.xlabel(\"price($)\")\n",
    "plt.ylabel(\"Frequency\")\n",
    "plt.grid(True)\n",
    "plt.show()"
   ]
  },
  {
   "cell_type": "code",
   "execution_count": 26,
   "id": "b3266fa6",
   "metadata": {},
   "outputs": [
    {
     "data": {
      "image/png": "[encoded data removed]",
      "text/plain": [
       "<Figure size 576x432 with 1 Axes>"
      ]
     },
     "metadata": {
      "needs_background": "light"
     },
     "output_type": "display_data"
    }
   ],
   "source": [
    "# Visualize outliers in house price\n",
    "plt.figure(figsize=(8, 6))\n",
    "sns.boxplot(data=data, x='price')\n",
    "plt.title(\"Outliers in House Price\")\n",
    "plt.xlabel(\"Price ($)\")\n",
    "plt.grid(True)\n",
    "plt.show()"
   ]
  },
  {
   "cell_type": "code",
   "execution_count": 27,
   "id": "706c0200",
   "metadata": {},
   "outputs": [],
   "source": [
    "# Data Cleaning: Handling outliers / Censoring\n",
    "data = data[data['price'] < 9000000]  # Removing extreme outliers for demonstration"
   ]
  },
  {
   "cell_type": "code",
   "execution_count": 28,
   "id": "e05efd95",
   "metadata": {},
   "outputs": [],
   "source": [
    "#data cleaning\n",
    "def find_boundaries(variable):\n",
    "   q1 = data[variable].quantile(0.25)\n",
    "   q3 = data[variable].quantile(0.75)\n",
    "   iqr =q3-q1\n",
    "   lower_boundary = q1-1.5*iqr\n",
    "   upper_boundary = q1+1.5*iqr\n",
    "   return lower_boundary,upper_boundary\n",
    "lower_price,upper_price = find_boundaries('price')\n",
    "\n",
    "data.price = np.where(data.price > upper_price, upper_price,data.price)\n",
    "data.price = np.where(data.price < lower_price, lower_price,data.price)\n"
   ]
  },
  {
   "cell_type": "code",
   "execution_count": 29,
   "id": "6196c7d3",
   "metadata": {},
   "outputs": [
    {
     "data": {
      "image/png": "[encoded data removed]",
      "text/plain": [
       "<Figure size 576x432 with 1 Axes>"
      ]
     },
     "metadata": {
      "needs_background": "light"
     },
     "output_type": "display_data"
    }
   ],
   "source": [
    "# Visualize outliers in house price\n",
    "plt.figure(figsize=(8, 6))\n",
    "sns.boxplot(data=data, x='price')\n",
    "plt.title(\"Outliers in House Price\")\n",
    "plt.xlabel(\"Price ($)\")\n",
    "plt.grid(True)\n",
    "plt.show()"
   ]
  },
  {
   "cell_type": "code",
   "execution_count": 30,
   "id": "ba2bee43",
   "metadata": {},
   "outputs": [],
   "source": [
    "# Calculate correlation matrix\n",
    "correlation_matrix = data.corr()"
   ]
  },
  {
   "cell_type": "code",
   "execution_count": 31,
   "id": "0875072a",
   "metadata": {},
   "outputs": [
    {
     "data": {
      "image/png": "[encoded data removed]",
      "text/plain": [
       "<Figure size 720x576 with 2 Axes>"
      ]
     },
     "metadata": {
      "needs_background": "light"
     },
     "output_type": "display_data"
    }
   ],
   "source": [
    "# Visualize correlation matrix\n",
    "plt.figure(figsize=(10, 8))\n",
    "sns.heatmap(correlation_matrix, annot=True, cmap=\"coolwarm\")\n",
    "plt.title(\"Correlation Matrix\")\n",
    "plt.show()"
   ]
  },
  {
   "cell_type": "code",
   "execution_count": 34,
   "id": "eb40170f",
   "metadata": {},
   "outputs": [],
   "source": [
    "x = data['bedrooms']\n",
    "y = data['price']\n",
    "from sklearn.model_selection import train_test_split\n",
    "x_train,x_test,y_train,y_test = train_test_split(x,y, test_size=0.2,random_state=0)"
   ]
  },
  {
   "cell_type": "code",
   "execution_count": 35,
   "id": "d0be80c8",
   "metadata": {},
   "outputs": [
    {
     "data": {
      "text/plain": [
       "((3639,), (910,), (3639,), (910,))"
      ]
     },
     "execution_count": 35,
     "metadata": {},
     "output_type": "execute_result"
    }
   ],
   "source": [
    "x_train.shape,x_test.shape,y_train.shape,y_test.shape"
   ]
  },
  {
   "cell_type": "code",
   "execution_count": 36,
   "id": "b5291f31",
   "metadata": {},
   "outputs": [
    {
     "data": {
      "text/plain": [
       "3.400384721077219"
      ]
     },
     "execution_count": 36,
     "metadata": {},
     "output_type": "execute_result"
    }
   ],
   "source": [
    "x_train.mean()"
   ]
  },
  {
   "cell_type": "code",
   "execution_count": 37,
   "id": "837b082e",
   "metadata": {},
   "outputs": [
    {
     "data": {
      "text/plain": [
       "494902.45026013575"
      ]
     },
     "execution_count": 37,
     "metadata": {},
     "output_type": "execute_result"
    }
   ],
   "source": [
    "y_train.mean()"
   ]
  },
  {
   "cell_type": "code",
   "execution_count": 38,
   "id": "82f2b8e0",
   "metadata": {},
   "outputs": [
    {
     "name": "stdout",
     "output_type": "stream",
     "text": [
      "Slope: 82384.98622340252 \n",
      "Intercept: 214761.8018599206\n"
     ]
    }
   ],
   "source": [
    "def errors_product():\n",
    "   prod = (x_train - x_train.mean()) * (y_train - y_train.mean())\n",
    "   return prod\n",
    "\n",
    "def squared_errors():\n",
    "   sq_errors = (x_train- x_train.mean()) ** 2\n",
    "   return sq_errors\n",
    "\n",
    "\n",
    " #calculate the  slope and intercept values for the best fit line\n",
    "slope = errors_product().sum()/squared_errors().sum()\n",
    "intercept = y_train.mean() - slope * x_train.mean()\n",
    "\n",
    "print(f\"Slope: {slope} \\nIntercept: {intercept}\")\n"
   ]
  },
  {
   "cell_type": "code",
   "execution_count": 41,
   "id": "45111e6a",
   "metadata": {},
   "outputs": [
    {
     "data": {
      "image/png": "[encoded data removed]",
      "text/plain": [
       "<Figure size 720x432 with 1 Axes>"
      ]
     },
     "metadata": {
      "needs_background": "light"
     },
     "output_type": "display_data"
    }
   ],
   "source": [
    "# Data Visualization\n",
    "plt.figure(figsize=(10, 6))\n",
    "sns.scatterplot(data=data, x='bedrooms', y='price')\n",
    "plt.title(\"House Price vs. Bedrooms\")\n",
    "plt.xlabel(\"Bedrooms\")\n",
    "plt.ylabel(\"Price ($)\")\n",
    "plt.grid(True)\n",
    "plt.show()"
   ]
  }
 ],
 "metadata": {
  "kernelspec": {
   "display_name": "Python 3 (ipykernel)",
   "language": "python",
   "name": "python3"
  },
  "language_info": {
   "codemirror_mode": {
    "name": "ipython",
    "version": 3
   },
   "file_extension": ".py",
   "mimetype": "text/x-python",
   "name": "python",
   "nbconvert_exporter": "python",
   "pygments_lexer": "ipython3",
   "version": "3.9.12"
  }
 },
 "nbformat": 4,
 "nbformat_minor": 5
}
